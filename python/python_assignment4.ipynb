{
 "cells": [
  {
   "cell_type": "code",
   "execution_count": 24,
   "metadata": {},
   "outputs": [
    {
     "name": "stdout",
     "output_type": "stream",
     "text": [
      "Reading and writing successfully completed\n"
     ]
    },
    {
     "data": {
      "text/plain": [
       "['Hello world \\n',\n",
       " 'Welcome to the world of python \\n',\n",
       " \"Enjoy!!, Let's have fun\"]"
      ]
     },
     "execution_count": 24,
     "metadata": {},
     "output_type": "execute_result"
    }
   ],
   "source": [
    "\"\"\"1. create a txt file, enter multiple lines of text. read this file line by line and store\n",
    "it into a list. Apply exception handling technique\"\"\"\n",
    "\n",
    "try:\n",
    "    file = open(\"textFile.txt\",'w+')\n",
    "    file.write(\"Hello world \\nWelcome to the world of python \\nEnjoy!!, Let's have fun\")\n",
    "except Exception as error:\n",
    "    print(\"problems on file operation: \"+str(error))\n",
    "else:\n",
    "    print(\"Reading and writing successfully completed\")\n",
    "file.seek(0)\n",
    "\n",
    "lst=file.readlines()\n",
    "lst"
   ]
  },
  {
   "cell_type": "code",
   "execution_count": null,
   "metadata": {},
   "outputs": [],
   "source": [
    "\"\"\"3. Write a Python program to write below list content to a file. Apply exception\n",
    "handling technique\n",
    "color = ['Red', 'Green', 'White', 'Black', 'Pink', 'Yellow']\"\"\""
   ]
  },
  {
   "cell_type": "code",
   "execution_count": 31,
   "metadata": {},
   "outputs": [
    {
     "name": "stdout",
     "output_type": "stream",
     "text": [
      "writing completed\n"
     ]
    },
    {
     "data": {
      "text/plain": [
       "\"['Red', 'Green', 'White', 'Black', 'Pink', 'Yellow']\""
      ]
     },
     "execution_count": 31,
     "metadata": {},
     "output_type": "execute_result"
    }
   ],
   "source": [
    "try:\n",
    "    myFile = open(\"color.txt\",'w+')\n",
    "    color = ['Red', 'Green', 'White', 'Black', 'Pink', 'Yellow']\n",
    "    myFile.write(str(color))\n",
    "    \n",
    "except Exception as error:\n",
    "    print(\"Error on file operation: \"+str(error))\n",
    "    \n",
    "else:\n",
    "    print(\"writing completed\")\n",
    "myFile.seek(0)\n",
    "myFile.readline()"
   ]
  },
  {
   "cell_type": "code",
   "execution_count": null,
   "metadata": {},
   "outputs": [],
   "source": []
  }
 ],
 "metadata": {
  "kernelspec": {
   "display_name": "Python 3",
   "language": "python",
   "name": "python3"
  },
  "language_info": {
   "codemirror_mode": {
    "name": "ipython",
    "version": 3
   },
   "file_extension": ".py",
   "mimetype": "text/x-python",
   "name": "python",
   "nbconvert_exporter": "python",
   "pygments_lexer": "ipython3",
   "version": "3.7.6"
  }
 },
 "nbformat": 4,
 "nbformat_minor": 4
}
