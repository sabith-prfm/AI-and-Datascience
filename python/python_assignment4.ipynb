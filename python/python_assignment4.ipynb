{
 "cells": [
  {
   "cell_type": "code",
   "execution_count": 24,
   "metadata": {},
   "outputs": [
    {
     "name": "stdout",
     "output_type": "stream",
     "text": [
      "Reading and writing successfully completed\n"
     ]
    },
    {
     "data": {
      "text/plain": [
       "['Hello world \\n',\n",
       " 'Welcome to the world of python \\n',\n",
       " \"Enjoy!!, Let's have fun\"]"
      ]
     },
     "execution_count": 24,
     "metadata": {},
     "output_type": "execute_result"
    }
   ],
   "source": [
    "\"\"\"1. create a txt file, enter multiple lines of text. read this file line by line and store\n",
    "it into a list. Apply exception handling technique\"\"\"\n",
    "\n",
    "try:\n",
    "    file = open(\"textFile.txt\",'w+')\n",
    "    file.write(\"Hello world \\nWelcome to the world of python \\nEnjoy!!, Let's have fun\")\n",
    "except Exception as error:\n",
    "    print(\"problems on file operation: \"+str(error))\n",
    "else:\n",
    "    print(\"Reading and writing successfully completed\")\n",
    "file.seek(0)\n",
    "\n",
    "lst=file.readlines()\n",
    "lst"
   ]
  },
  {
   "cell_type": "code",
   "execution_count": 34,
   "metadata": {},
   "outputs": [
    {
     "name": "stdout",
     "output_type": "stream",
     "text": [
      "writing completed successfully\n"
     ]
    },
    {
     "data": {
      "text/plain": [
       "\"['Red', 'Green', 'White', 'Black', 'Pink', 'Yellow']\""
      ]
     },
     "execution_count": 34,
     "metadata": {},
     "output_type": "execute_result"
    }
   ],
   "source": [
    "\"\"\"2. Write a Python program to write below list content to a file. Apply exception\n",
    "handling technique\n",
    "color = ['Red', 'Green', 'White', 'Black', 'Pink', 'Yellow']\"\"\"\n",
    "\n",
    "try:\n",
    "    myFile = open(\"color.txt\",'w+')\n",
    "    color = ['Red', 'Green', 'White', 'Black', 'Pink', 'Yellow']\n",
    "    myFile.write(str(color))\n",
    "    \n",
    "except Exception as error:\n",
    "    print(\"Error on file operation: \"+str(error))\n",
    "    \n",
    "else:\n",
    "    print(\"writing completed successfully\")\n",
    "myFile.seek(0)\n",
    "myFile.readline()"
   ]
  },
  {
   "cell_type": "code",
   "execution_count": 58,
   "metadata": {},
   "outputs": [
    {
     "name": "stdout",
     "output_type": "stream",
     "text": [
      "before removing newLine character[]\n",
      "Printing by removing new line character\n",
      "['Line1 ', 'Line2 ', 'Line3 ', 'Line4']\n",
      "Succesfull\n"
     ]
    }
   ],
   "source": [
    "\"\"\"3. create a txt file, enter multiple lines of text. remove newline characters from\n",
    "created file and print as a list. Apply exception handling techniques wherever\n",
    "possible\"\"\"\n",
    "\n",
    "try:\n",
    "    myFile = open(\"newFile.txt\",'w+')\n",
    "    myFile.write(\"Line1 \\nLine2 \\nLine3 \\nLine4\")\n",
    "    myFile.seek(0)\n",
    "    List = myFile.readlines()\n",
    "    print(\"before removing newLine character\"+str(latestList))\n",
    "    print(\"Printing by removing new line character\")\n",
    "    latestList = []\n",
    "    for item in List:\n",
    "        latestList.append(item.rstrip(\"\\n\"))\n",
    "    print(latestList)\n",
    "    \n",
    "except Exception as error:\n",
    "    print(\"error in open try block,Failed due to:\"+str(error))\n",
    "    \n",
    "else:\n",
    "    print(\"Succesfull\")"
   ]
  },
  {
   "cell_type": "code",
   "execution_count": null,
   "metadata": {},
   "outputs": [],
   "source": []
  },
  {
   "cell_type": "code",
   "execution_count": null,
   "metadata": {},
   "outputs": [],
   "source": []
  }
 ],
 "metadata": {
  "kernelspec": {
   "display_name": "Python 3",
   "language": "python",
   "name": "python3"
  },
  "language_info": {
   "codemirror_mode": {
    "name": "ipython",
    "version": 3
   },
   "file_extension": ".py",
   "mimetype": "text/x-python",
   "name": "python",
   "nbconvert_exporter": "python",
   "pygments_lexer": "ipython3",
   "version": "3.7.6"
  }
 },
 "nbformat": 4,
 "nbformat_minor": 4
}
