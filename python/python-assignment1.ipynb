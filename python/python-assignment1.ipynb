{
 "cells": [
  {
   "cell_type": "code",
   "execution_count": null,
   "metadata": {},
   "outputs": [],
   "source": [
    "#program to print middle 3 characters of 9 character lengthy string\n",
    "str=input(\"Enter the string \")\n",
    "str2=str[3:6]\n",
    "print(str2)\n"
   ]
  },
  {
   "cell_type": "code",
   "execution_count": 2,
   "metadata": {},
   "outputs": [
    {
     "name": "stdout",
     "output_type": "stream",
     "text": [
      "Enter the Number to calculate sum and average 3\n",
      "Sum is 6 and average is 2.0\n"
     ]
    }
   ],
   "source": [
    "#sum and average of first n natural Number using for loop\n",
    "n=int(input(\"Enter the Number to calculate sum and average \"))\n",
    "sum=0\n",
    "for i in range(n): #for loop begins\n",
    "    sum+=(i+1)     \n",
    "    avg=sum/n\n",
    "print(\"Sum is {} and average is {}\".format(sum,avg)) #prints in specified format using format()"
   ]
  },
  {
   "cell_type": "code",
   "execution_count": null,
   "metadata": {},
   "outputs": [],
   "source": [
    "#sum and average of first n natural Number using while loop\n",
    "n=int(input(\"Enter the Number to calculate sum and average \"))\n",
    "sum=0\n",
    "i=0\n",
    "while i < n:\n",
    "    sum+=(i+1)\n",
    "    avg=sum/n\n",
    "    i+=1\n",
    "print(\"Sum is {} and average is {}\".format(sum,avg))\n"
   ]
  },
  {
   "cell_type": "code",
   "execution_count": null,
   "metadata": {},
   "outputs": [],
   "source": []
  }
 ],
 "metadata": {
  "kernelspec": {
   "display_name": "Python 3",
   "language": "python",
   "name": "python3"
  },
  "language_info": {
   "codemirror_mode": {
    "name": "ipython",
    "version": 3
   },
   "file_extension": ".py",
   "mimetype": "text/x-python",
   "name": "python",
   "nbconvert_exporter": "python",
   "pygments_lexer": "ipython3",
   "version": "3.7.6"
  }
 },
 "nbformat": 4,
 "nbformat_minor": 4
}
