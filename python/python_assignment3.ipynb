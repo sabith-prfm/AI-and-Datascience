{
 "cells": [
  {
   "cell_type": "code",
   "execution_count": 16,
   "metadata": {},
   "outputs": [
    {
     "name": "stdout",
     "output_type": "stream",
     "text": [
      "Enter the first number 50\n",
      "Enter the second number 40\n",
      "sum is 90\n",
      "substraction is 10\n"
     ]
    }
   ],
   "source": [
    "\"\"\"Write a function calculation() such that it can accept two\n",
    "variables as arguments and calculate the addition and\n",
    "subtraction of it. And also it must return both addition and\n",
    "subtraction in a single return call\"\"\"\n",
    "\n",
    "def calculation(num1,num2):\n",
    "    print(\"sum is \"+str((num1+num2)))\n",
    "    print(\"substraction is \"+str((num1-num2)))\n",
    "    \n",
    "firstNumber, secondNumber = int(input(\"Enter the first number \")), int(input(\"Enter the second number \"))\n",
    "calculation(firstNumber,secondNumber)"
   ]
  },
  {
   "cell_type": "code",
   "execution_count": 17,
   "metadata": {},
   "outputs": [
    {
     "name": "stdout",
     "output_type": "stream",
     "text": [
      "Enter the name and salary sabith\n",
      "\n",
      "employee name is sabith\n",
      "employee salary is 9000\n"
     ]
    }
   ],
   "source": [
    "\"\"\"Create a function showEmployee() in such a way that it\n",
    "should accept employee name, and it’s salary and display both,\n",
    "and if the salary is missing in function call it should show it as\n",
    "9000\"\"\"\n",
    "def showEmployee(empName,empSalary='9000'):\n",
    "    print(\"employee name is \"+empName)\n",
    "    print(\"employee salary is \"+str(empSalary))\n",
    "eName, eSalary = input(\"Enter the name and salary \"), input()\n",
    "if eSalary==\"\":\n",
    "    showEmployee(eName)\n",
    "else:\n",
    "    showEmployee(eName,eSalary)"
   ]
  },
  {
   "cell_type": "code",
   "execution_count": null,
   "metadata": {},
   "outputs": [],
   "source": []
  },
  {
   "cell_type": "code",
   "execution_count": 45,
   "metadata": {},
   "outputs": [
    {
     "name": "stdout",
     "output_type": "stream",
     "text": [
      "Enter the string: awesome\n",
      "{'a': 1, 'w': 1, 'e': 2, 's': 1, 'o': 1, 'm': 1}\n"
     ]
    }
   ],
   "source": [
    "\"\"\"Q3 : Write a function called multipleLetterCount. This function\n",
    "takes in one parameter (a string) and returns a dictionary with the\n",
    "keys being the letters and the value being the count of the letter.\"\"\"\n",
    "dictionary = {}\n",
    "def multipleLetterCount(string):\n",
    "    lst=[char for char in string] #converts each character into a list\n",
    "    for i in lst:\n",
    "        number = lst.count(i)\n",
    "        dictionary.update({i : number})\n",
    "        #print(number)\n",
    "    print(dictionary)\n",
    "multipleLetterCount(input(\"Enter the string: \"))"
   ]
  },
  {
   "cell_type": "code",
   "execution_count": 42,
   "metadata": {},
   "outputs": [
    {
     "name": "stdout",
     "output_type": "stream",
     "text": [
      "{'key for key in string1': 1}\n"
     ]
    }
   ],
   "source": [
    "string1 =\"sabith\"\n",
    "dic = {\"key for key in string1\" : 1}\n",
    "print(dic)"
   ]
  },
  {
   "cell_type": "code",
   "execution_count": null,
   "metadata": {},
   "outputs": [],
   "source": []
  },
  {
   "cell_type": "code",
   "execution_count": null,
   "metadata": {},
   "outputs": [],
   "source": []
  }
 ],
 "metadata": {
  "kernelspec": {
   "display_name": "Python 3",
   "language": "python",
   "name": "python3"
  },
  "language_info": {
   "codemirror_mode": {
    "name": "ipython",
    "version": 3
   },
   "file_extension": ".py",
   "mimetype": "text/x-python",
   "name": "python",
   "nbconvert_exporter": "python",
   "pygments_lexer": "ipython3",
   "version": "3.7.6"
  }
 },
 "nbformat": 4,
 "nbformat_minor": 4
}
